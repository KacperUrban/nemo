{
 "cells": [
  {
   "cell_type": "markdown",
   "id": "5fccbc21",
   "metadata": {},
   "source": [
    "## Baseline pipeline"
   ]
  },
  {
   "cell_type": "code",
   "execution_count": 1,
   "id": "0bc7b489",
   "metadata": {
    "scrolled": true
   },
   "outputs": [],
   "source": [
    "from nemo_curator.download import download_common_crawl\n",
    "\n",
    "# Download your dataset\n",
    "dataset = download_common_crawl(\"/code/datasets/common_crawl/\", \"2022-04\", \"2023-5\", output_type=\"jsonl\", url_limit=5)"
   ]
  },
  {
   "cell_type": "code",
   "execution_count": 2,
   "id": "736e0009",
   "metadata": {},
   "outputs": [
    {
     "name": "stderr",
     "output_type": "stream",
     "text": [
      "/usr/local/lib/python3.10/dist-packages/dask/dataframe/core.py:4630: UserWarning: \n",
      "You did not provide metadata, so Dask is running your function on a small dataset to guess output types. It is possible that Dask will guess incorrectly.\n",
      "To provide an explicit output types or to silence this message, please provide the `meta=` keyword, as described in the map or apply function that you are using.\n",
      "  Before: .apply(func)\n",
      "  After:  .apply(func, meta=('text', 'int64'))\n",
      "\n",
      "  warnings.warn(meta_warning(meta))\n"
     ]
    }
   ],
   "source": [
    "from nemo_curator.modifiers.unicode_reformatter import UnicodeReformatter\n",
    "from nemo_curator.filters import WordCountFilter\n",
    "from nemo_curator.modules.modify import Modify\n",
    "from nemo_curator import ScoreFilter, Sequential\n",
    "\n",
    "# Build your pipeline\n",
    "curation_pipeline = Sequential([\n",
    "  # Fix unicode\n",
    "  Modify(UnicodeReformatter()),\n",
    "  # Discard short records\n",
    "  ScoreFilter(WordCountFilter(min_words=100))\n",
    "])\n",
    "# Execute the pipeline on your dataset\n",
    "curated_dataset = curation_pipeline(dataset)\n",
    "df = curated_dataset.to_pandas()"
   ]
  },
  {
   "cell_type": "code",
   "execution_count": 4,
   "id": "bb719e9b",
   "metadata": {},
   "outputs": [
    {
     "data": {
      "text/plain": [
       "1646"
      ]
     },
     "execution_count": 4,
     "metadata": {},
     "output_type": "execute_result"
    }
   ],
   "source": [
    "len(df[df.language == \"POLISH\"])"
   ]
  },
  {
   "cell_type": "code",
   "execution_count": 8,
   "id": "2246a154",
   "metadata": {},
   "outputs": [
    {
     "data": {
      "text/html": [
       "<div>\n",
       "<style scoped>\n",
       "    .dataframe tbody tr th:only-of-type {\n",
       "        vertical-align: middle;\n",
       "    }\n",
       "\n",
       "    .dataframe tbody tr th {\n",
       "        vertical-align: top;\n",
       "    }\n",
       "\n",
       "    .dataframe thead th {\n",
       "        text-align: right;\n",
       "    }\n",
       "</style>\n",
       "<table border=\"1\" class=\"dataframe\">\n",
       "  <thead>\n",
       "    <tr style=\"text-align: right;\">\n",
       "      <th></th>\n",
       "      <th>filename</th>\n",
       "      <th>language</th>\n",
       "      <th>source_id</th>\n",
       "      <th>text</th>\n",
       "      <th>url</th>\n",
       "      <th>warc_id</th>\n",
       "    </tr>\n",
       "  </thead>\n",
       "  <tbody>\n",
       "    <tr>\n",
       "      <th>0</th>\n",
       "      <td>CC-MAIN-20221126080725-20221126110725-00000.wa...</td>\n",
       "      <td>KOREAN</td>\n",
       "      <td>crawl-data-CC-MAIN-2022-49-segments-1669446706...</td>\n",
       "      <td>대한제일 천안출장안마 BOBO출장안마\\n\\n제주출장안마 꿈과 사람, 청녀, 여러 복...</td>\n",
       "      <td>http://0130.com.cn/news/shownews.php?id=188</td>\n",
       "      <td>230340ee-4f5c-4c5a-b1d6-d98a986f47d9</td>\n",
       "    </tr>\n",
       "    <tr>\n",
       "      <th>1</th>\n",
       "      <td>CC-MAIN-20221126080725-20221126110725-00000.wa...</td>\n",
       "      <td>KOREAN</td>\n",
       "      <td>crawl-data-CC-MAIN-2022-49-segments-1669446706...</td>\n",
       "      <td>대한제일 천안출장안마 BOBO출장안마\\n\\n전주출장샵 토요일 샤오 얀 공격\\n\\n2...</td>\n",
       "      <td>http://0130.com.cn/news/shownews.php?id=43</td>\n",
       "      <td>d79e1ca3-04f5-4268-b8aa-12dc3582dfef</td>\n",
       "    </tr>\n",
       "    <tr>\n",
       "      <th>2</th>\n",
       "      <td>CC-MAIN-20221126080725-20221126110725-00000.wa...</td>\n",
       "      <td>POLISH</td>\n",
       "      <td>crawl-data-CC-MAIN-2022-49-segments-1669446706...</td>\n",
       "      <td>Obchody \"Czerwca 76\" z rekomendacją Komisji Ku...</td>\n",
       "      <td>http://095160170158.vectranet.pl/wiadomosci/it...</td>\n",
       "      <td>7bc391ef-9e15-46f4-a3c5-f66f6472f98f</td>\n",
       "    </tr>\n",
       "    <tr>\n",
       "      <th>3</th>\n",
       "      <td>CC-MAIN-20221126080725-20221126110725-00000.wa...</td>\n",
       "      <td>ENGLISH</td>\n",
       "      <td>crawl-data-CC-MAIN-2022-49-segments-1669446706...</td>\n",
       "      <td>Opret ny bruger\\n\\nIf you agree with the follo...</td>\n",
       "      <td>http://123nu.dk/lystfiskeri/forum/registration...</td>\n",
       "      <td>605120ef-1935-4607-80d8-daa8e9591aeb</td>\n",
       "    </tr>\n",
       "    <tr>\n",
       "      <th>5</th>\n",
       "      <td>CC-MAIN-20221126080725-20221126110725-00000.wa...</td>\n",
       "      <td>VIETNAMESE</td>\n",
       "      <td>crawl-data-CC-MAIN-2022-49-segments-1669446706...</td>\n",
       "      <td>Xin chào tất cả anh em , hôm nay diễn đàn XSMB...</td>\n",
       "      <td>http://1368.info/soi-cau-3-cang/</td>\n",
       "      <td>c789125f-a204-42f6-b97b-73815ff257f2</td>\n",
       "    </tr>\n",
       "  </tbody>\n",
       "</table>\n",
       "</div>"
      ],
      "text/plain": [
       "                                            filename    language  \\\n",
       "0  CC-MAIN-20221126080725-20221126110725-00000.wa...      KOREAN   \n",
       "1  CC-MAIN-20221126080725-20221126110725-00000.wa...      KOREAN   \n",
       "2  CC-MAIN-20221126080725-20221126110725-00000.wa...      POLISH   \n",
       "3  CC-MAIN-20221126080725-20221126110725-00000.wa...     ENGLISH   \n",
       "5  CC-MAIN-20221126080725-20221126110725-00000.wa...  VIETNAMESE   \n",
       "\n",
       "                                           source_id  \\\n",
       "0  crawl-data-CC-MAIN-2022-49-segments-1669446706...   \n",
       "1  crawl-data-CC-MAIN-2022-49-segments-1669446706...   \n",
       "2  crawl-data-CC-MAIN-2022-49-segments-1669446706...   \n",
       "3  crawl-data-CC-MAIN-2022-49-segments-1669446706...   \n",
       "5  crawl-data-CC-MAIN-2022-49-segments-1669446706...   \n",
       "\n",
       "                                                text  \\\n",
       "0  대한제일 천안출장안마 BOBO출장안마\\n\\n제주출장안마 꿈과 사람, 청녀, 여러 복...   \n",
       "1  대한제일 천안출장안마 BOBO출장안마\\n\\n전주출장샵 토요일 샤오 얀 공격\\n\\n2...   \n",
       "2  Obchody \"Czerwca 76\" z rekomendacją Komisji Ku...   \n",
       "3  Opret ny bruger\\n\\nIf you agree with the follo...   \n",
       "5  Xin chào tất cả anh em , hôm nay diễn đàn XSMB...   \n",
       "\n",
       "                                                 url  \\\n",
       "0        http://0130.com.cn/news/shownews.php?id=188   \n",
       "1         http://0130.com.cn/news/shownews.php?id=43   \n",
       "2  http://095160170158.vectranet.pl/wiadomosci/it...   \n",
       "3  http://123nu.dk/lystfiskeri/forum/registration...   \n",
       "5                   http://1368.info/soi-cau-3-cang/   \n",
       "\n",
       "                                warc_id  \n",
       "0  230340ee-4f5c-4c5a-b1d6-d98a986f47d9  \n",
       "1  d79e1ca3-04f5-4268-b8aa-12dc3582dfef  \n",
       "2  7bc391ef-9e15-46f4-a3c5-f66f6472f98f  \n",
       "3  605120ef-1935-4607-80d8-daa8e9591aeb  \n",
       "5  c789125f-a204-42f6-b97b-73815ff257f2  "
      ]
     },
     "execution_count": 8,
     "metadata": {},
     "output_type": "execute_result"
    }
   ],
   "source": [
    "df.head(5)"
   ]
  },
  {
   "cell_type": "code",
   "execution_count": 7,
   "id": "201436e6",
   "metadata": {},
   "outputs": [],
   "source": [
    "df1 = df[df.language == \"POLISH\"]['text'].reset_index(drop=True)"
   ]
  },
  {
   "cell_type": "code",
   "execution_count": 6,
   "id": "84c6698a",
   "metadata": {},
   "outputs": [
    {
     "data": {
      "text/plain": [
       "0       Obchody \"Czerwca 76\" z rekomendacją Komisji Ku...\n",
       "1       Tytuł artykułu\\n\\n1988\\n\\nCzasopismo\\n\\nWydawc...\n",
       "2       awx2 architekci Tag\\n\\nWłaściciele DOMU MK pod...\n",
       "3       W artykule \"Tabele i wykresy na start!\"Tabele ...\n",
       "4       Studenci z sercem pełnym Caritas\\n\\nŻycie stud...\n",
       "                              ...                        \n",
       "1641    Alkohol tylko od piątku do niedzieli? Sprawdź,...\n",
       "1642    Usługi wdrożeniowe\\n\\nUsługi wdrożeniowe\\n\\nUs...\n",
       "1643    Kalendarz\\n\\nKonkurs Biblijny dla klas 4-5\\n\\n...\n",
       "1644    Konkurs plastyczny dla kl. 6a i 6b\\n\\n9 maja 2...\n",
       "1645    Tutaj jesteś:\\n\\nNordic walking to idealny kom...\n",
       "Name: text, Length: 1646, dtype: object"
      ]
     },
     "execution_count": 6,
     "metadata": {},
     "output_type": "execute_result"
    }
   ],
   "source": [
    "df1"
   ]
  },
  {
   "cell_type": "code",
   "execution_count": 14,
   "id": "ff1cc76d",
   "metadata": {},
   "outputs": [],
   "source": [
    "df1.to_csv('text.txt', header=False, index=False)"
   ]
  }
 ],
 "metadata": {
  "kernelspec": {
   "display_name": "Python 3 (ipykernel)",
   "language": "python",
   "name": "python3"
  },
  "language_info": {
   "codemirror_mode": {
    "name": "ipython",
    "version": 3
   },
   "file_extension": ".py",
   "mimetype": "text/x-python",
   "name": "python",
   "nbconvert_exporter": "python",
   "pygments_lexer": "ipython3",
   "version": "3.10.12"
  }
 },
 "nbformat": 4,
 "nbformat_minor": 5
}
