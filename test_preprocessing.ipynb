{
 "cells": [
  {
   "cell_type": "markdown",
   "id": "5fccbc21",
   "metadata": {},
   "source": [
    "## Baseline pipeline"
   ]
  },
  {
   "cell_type": "code",
   "execution_count": 2,
   "id": "0bc7b489",
   "metadata": {
    "scrolled": true
   },
   "outputs": [
    {
     "name": "stderr",
     "output_type": "stream",
     "text": [
      "/usr/local/lib/python3.10/dist-packages/dask/dataframe/core.py:4630: UserWarning: \n",
      "You did not provide metadata, so Dask is running your function on a small dataset to guess output types. It is possible that Dask will guess incorrectly.\n",
      "To provide an explicit output types or to silence this message, please provide the `meta=` keyword, as described in the map or apply function that you are using.\n",
      "  Before: .apply(func)\n",
      "  After:  .apply(func, meta=('text', 'int64'))\n",
      "\n",
      "  warnings.warn(meta_warning(meta))\n"
     ]
    }
   ],
   "source": [
    "from nemo_curator.download import download_common_crawl\n",
    "from nemo_curator.modifiers.unicode_reformatter import UnicodeReformatter\n",
    "from nemo_curator.filters import WordCountFilter\n",
    "from nemo_curator.modules.modify import Modify\n",
    "from nemo_curator import ScoreFilter, Sequential\n",
    "\n",
    "# Download your dataset\n",
    "dataset = download_common_crawl(\"/datasets/common_crawl/\", \"2022-04\", \"2023-5\", url_limit=1)\n",
    "# Build your pipeline\n",
    "curation_pipeline = Sequential([\n",
    "  # Fix unicode\n",
    "  Modify(UnicodeReformatter()),\n",
    "  # Discard short records\n",
    "  ScoreFilter(WordCountFilter(min_words=100))\n",
    "])\n",
    "# Execute the pipeline on your dataset\n",
    "curated_dataset = curation_pipeline(dataset)"
   ]
  },
  {
   "cell_type": "code",
   "execution_count": 3,
   "id": "f5683f60",
   "metadata": {},
   "outputs": [
    {
     "name": "stdout",
     "output_type": "stream",
     "text": [
      "Downloading https://data.commoncrawl.org/crawl-data/CC-MAIN-2022-49/segments/1669446706285.92/warc/CC-MAIN-20221126080725-20221126110725-00000.warc.gz and writing to /code/datasets/common_crawl/downloads/crawl-data-CC-MAIN-2022-49-segments-1669446706285.92-warc-CC-MAIN-20221126080725-20221126110725-00000.warc.gz\n",
      "Extracted 1000 records in WARC\n",
      "Extracted 2000 records in WARC\n",
      "Extracted 3000 records in WARC\n",
      "Extracted 4000 records in WARC\n",
      "Extracted 5000 records in WARC\n",
      "Extracted 6000 records in WARC\n",
      "Extracted 7000 records in WARC\n",
      "Extracted 8000 records in WARC\n",
      "Extracted 9000 records in WARC\n",
      "Extracted 10000 records in WARC\n",
      "Extracted 11000 records in WARC\n",
      "Extracted 12000 records in WARC\n",
      "Extracted 13000 records in WARC\n",
      "Extracted 14000 records in WARC\n",
      "Extracted 15000 records in WARC\n",
      "Extracted 16000 records in WARC\n",
      "Extracted 17000 records in WARC\n",
      "Extracted 18000 records in WARC\n",
      "Extracted 19000 records in WARC\n",
      "Extracted 20000 records in WARC\n",
      "Extracted 21000 records in WARC\n",
      "Extracted 22000 records in WARC\n",
      "Extracted 23000 records in WARC\n",
      "Extracted 24000 records in WARC\n",
      "Extracted 25000 records in WARC\n",
      "Extracted 26000 records in WARC\n",
      "Extracted 27000 records in WARC\n",
      "Extracted 28000 records in WARC\n",
      "Extracted 29000 records in WARC\n",
      "Extracted 30000 records in WARC\n",
      "Extracted 31000 records in WARC\n",
      "Extracted 32000 records in WARC\n",
      "Extracted 33000 records in WARC\n",
      "Extracted 34000 records in WARC\n",
      "Extracted 35000 records in WARC\n",
      "Extracted 36000 records in WARC\n",
      "Extracted 37000 records in WARC\n",
      "Extracted 38000 records in WARC\n"
     ]
    }
   ],
   "source": [
    "df = curated_dataset.to_pandas()"
   ]
  },
  {
   "cell_type": "code",
   "execution_count": 4,
   "id": "bb719e9b",
   "metadata": {},
   "outputs": [
    {
     "data": {
      "text/plain": [
       "349"
      ]
     },
     "execution_count": 4,
     "metadata": {},
     "output_type": "execute_result"
    }
   ],
   "source": [
    "len(df[df.language == \"POLISH\"])"
   ]
  },
  {
   "cell_type": "code",
   "execution_count": 5,
   "id": "201436e6",
   "metadata": {},
   "outputs": [
    {
     "data": {
      "text/plain": [
       "2        Obchody \"Czerwca 76\" z rekomendacją Komisji Ku...\n",
       "29       Tytuł artykułu\\n\\n1988\\n\\nCzasopismo\\n\\nWydawc...\n",
       "31       Turniej Stilon Gorzów Skrzat Cup\\n\\n8 grudnia ...\n",
       "84       awx2 architekci Tag\\n\\nWłaściciele DOMU MK pod...\n",
       "143      W artykule \"Tabele i wykresy na start!\"Tabele ...\n",
       "                               ...                        \n",
       "19823    Lub zaloguj się za pomocą:\\n\\nZaloguj się:\\n\\n...\n",
       "19830    Tag: koronawirus\\n\\nKochani! Tym razem mam dla...\n",
       "19839    Trending\\n\\nSuplement idealny – beta alanina\\n...\n",
       "19886    Październik – Międzynarodowy Miesiąc Bibliotek...\n",
       "19887    Aktualności\\n\\n25.01.2017 r. uczniowie z klasy...\n",
       "Name: text, Length: 349, dtype: object"
      ]
     },
     "execution_count": 5,
     "metadata": {},
     "output_type": "execute_result"
    }
   ],
   "source": [
    "df[df.language == \"POLISH\"]['text']"
   ]
  },
  {
   "cell_type": "code",
   "execution_count": 19,
   "id": "ff1cc76d",
   "metadata": {},
   "outputs": [],
   "source": [
    "df[df.language == \"POLISH\"]['text'].to_csv('plik.txt', header=False, index=False)"
   ]
  }
 ],
 "metadata": {
  "kernelspec": {
   "display_name": "Python 3 (ipykernel)",
   "language": "python",
   "name": "python3"
  },
  "language_info": {
   "codemirror_mode": {
    "name": "ipython",
    "version": 3
   },
   "file_extension": ".py",
   "mimetype": "text/x-python",
   "name": "python",
   "nbconvert_exporter": "python",
   "pygments_lexer": "ipython3",
   "version": "3.10.12"
  }
 },
 "nbformat": 4,
 "nbformat_minor": 5
}
