{
 "cells": [
  {
   "cell_type": "markdown",
   "id": "4c58edac",
   "metadata": {},
   "source": [
    "## CPU Deduplication"
   ]
  },
  {
   "cell_type": "code",
   "execution_count": 1,
   "id": "bc0403c3",
   "metadata": {},
   "outputs": [],
   "source": [
    "from nemo_curator.datasets import DocumentDataset\n",
    "from nemo_curator.modules import ExactDuplicates\n",
    "from nemo_curator.modules.modify import Modify\n",
    "from nemo_curator import AddId\n",
    "import time\n",
    "import numpy as np"
   ]
  },
  {
   "cell_type": "code",
   "execution_count": 2,
   "id": "8c6ea16f",
   "metadata": {},
   "outputs": [
    {
     "name": "stdout",
     "output_type": "stream",
     "text": [
      "Reading 3 files\n"
     ]
    }
   ],
   "source": [
    "dataset = DocumentDataset.read_json('/code/data/ready', add_filename=True)\n",
    "add_id = AddId(id_field=\"id\")\n",
    "id_dataset = add_id(dataset)"
   ]
  },
  {
   "cell_type": "code",
   "execution_count": 3,
   "id": "bbf66c26",
   "metadata": {},
   "outputs": [
    {
     "name": "stdout",
     "output_type": "stream",
     "text": [
      "12099\n",
      "Time elapsed: 26.45\n"
     ]
    }
   ],
   "source": [
    "start_time = time.time()\n",
    "deduplicator = ExactDuplicates(id_field=\"id\", text_field=\"text\", hash_method=\"md5\")\n",
    "\n",
    "# Find the duplicates\n",
    "duplicates = deduplicator(id_dataset)\n",
    "docs_to_remove = duplicates.df.map_partitions(\n",
    "    lambda x: x[x._hashes.duplicated(keep=\"first\")]\n",
    ")\n",
    "duplicate_ids = list(docs_to_remove.compute()['id'])\n",
    "dataset_df = id_dataset.df\n",
    "print(len(dataset_df[dataset_df.id.isin(duplicate_ids)]))\n",
    "deduped = dataset_df[~dataset_df.id.isin(duplicate_ids)]\n",
    "deduped_dd = DocumentDataset(deduped)\n",
    "end_time = time.time()\n",
    "print(f\"Time elapsed: {np.round(end_time - start_time, 2)} s\")"
   ]
  },
  {
   "cell_type": "markdown",
   "id": "c84cf3f6",
   "metadata": {},
   "source": [
    "## GPU Deduplication"
   ]
  },
  {
   "cell_type": "code",
   "execution_count": 8,
   "id": "39a4c5f1",
   "metadata": {},
   "outputs": [
    {
     "name": "stdout",
     "output_type": "stream",
     "text": [
      "Reading 3 files\n"
     ]
    }
   ],
   "source": [
    "dataset_gpu = DocumentDataset.read_json('/code/data/ready', add_filename=True, backend='cudf')\n",
    "add_id = AddId(id_field=\"id\")\n",
    "id_dataset_gpu = add_id(dataset_gpu)"
   ]
  },
  {
   "cell_type": "code",
   "execution_count": 9,
   "id": "ca389ba2",
   "metadata": {},
   "outputs": [
    {
     "name": "stdout",
     "output_type": "stream",
     "text": [
      "12099\n",
      "Time elapsed: 8.73 s\n"
     ]
    }
   ],
   "source": [
    "start_time = time.time()\n",
    "deduplicator = ExactDuplicates(id_field=\"id\", text_field=\"text\", hash_method=\"md5\")\n",
    "\n",
    "# Find the duplicates\n",
    "duplicates = deduplicator(id_dataset_gpu)\n",
    "docs_to_remove = duplicates.df.map_partitions(\n",
    "    lambda x: x[x._hashes.duplicated(keep=\"first\")]\n",
    ")\n",
    "duplicate_ids = list(docs_to_remove.compute().to_pandas()['id'])\n",
    "dataset_df = id_dataset_gpu.df\n",
    "print(len(dataset_df[dataset_df.id.isin(duplicate_ids)]))\n",
    "deduped = dataset_df[~dataset_df.id.isin(duplicate_ids)]\n",
    "deduped_dd = DocumentDataset(deduped)\n",
    "end_time = time.time()\n",
    "print(f\"Time elapsed: {np.round(end_time - start_time, 2)} s\")"
   ]
  }
 ],
 "metadata": {
  "kernelspec": {
   "display_name": "Python 3 (ipykernel)",
   "language": "python",
   "name": "python3"
  },
  "language_info": {
   "codemirror_mode": {
    "name": "ipython",
    "version": 3
   },
   "file_extension": ".py",
   "mimetype": "text/x-python",
   "name": "python",
   "nbconvert_exporter": "python",
   "pygments_lexer": "ipython3",
   "version": "3.10.12"
  }
 },
 "nbformat": 4,
 "nbformat_minor": 5
}
