{
 "cells": [
  {
   "cell_type": "code",
   "execution_count": 2,
   "id": "963fb51e",
   "metadata": {},
   "outputs": [],
   "source": [
    "from nemo_curator.modifiers.pii_modifier import PiiModifier\n",
    "from nemo_curator.datasets import DocumentDataset\n",
    "from nemo_curator.modules.modify import Modify\n",
    "import pandas as pd\n",
    "import dask\n",
    "import dask.dataframe as dd"
   ]
  },
  {
   "cell_type": "code",
   "execution_count": 3,
   "id": "5ccfc7d6",
   "metadata": {},
   "outputs": [],
   "source": [
    "def check_partition_size(dataset):\n",
    "    partitions = dataset.df.to_delayed()\n",
    "\n",
    "    # Oblicz rozmiar każdej partycji\n",
    "    partition_sizes = [part.memory_usage(deep=True).sum() for part in partitions]\n",
    "\n",
    "    # Wywołaj compute, aby uzyskać rzeczywiste wartości rozmiarów\n",
    "    partition_sizes = dask.compute(*partition_sizes)\n",
    "\n",
    "    # Wyświetl rozmiary partycji\n",
    "    for i, size in enumerate(partition_sizes):\n",
    "        print(f\"Rozmiar partycji {i}: {size / (1024 ** 2):.2f} MB\")\n",
    "        \n",
    "def divide_partition_manual(dataset):\n",
    "    large_partition_idx = [i for i, size in enumerate(partition_sizes) if size > 500 * 1024 * 1024]  # np. > 500 MB\n",
    "\n",
    "    for idx in large_partition_idx:\n",
    "        large_part = dataset.df.get_partition(idx)\n",
    "        # Rozbijamy dużą partycję na mniejsze fragmenty i łączymy je z pozostałymi\n",
    "        split_df = dd.from_pandas(large_part.compute(), npartitions=5)\n",
    "        dataset.df = dataset.df.drop_partitions(idx).concat([dataset.df, split_df])\n",
    "    return dataset"
   ]
  },
  {
   "cell_type": "code",
   "execution_count": 4,
   "id": "fc84bf24",
   "metadata": {},
   "outputs": [],
   "source": [
    "from dask.distributed import LocalCluster, Client\n",
    "cluster = LocalCluster(n_workers=2, memory_limit=\"4GB\")\n",
    "client = Client(cluster)"
   ]
  },
  {
   "cell_type": "code",
   "execution_count": null,
   "id": "7289c682",
   "metadata": {},
   "outputs": [],
   "source": [
    "client"
   ]
  },
  {
   "cell_type": "code",
   "execution_count": 4,
   "id": "a193d504",
   "metadata": {},
   "outputs": [],
   "source": [
    "dataset = DocumentDataset.read_json('/code/data/ready', add_filename=True)"
   ]
  },
  {
   "cell_type": "code",
   "execution_count": 5,
   "id": "f9f60a6e",
   "metadata": {},
   "outputs": [],
   "source": [
    "check_partition_size(dataset)"
   ]
  },
  {
   "cell_type": "code",
   "execution_count": null,
   "id": "3e92c15d",
   "metadata": {},
   "outputs": [],
   "source": [
    "dataset = divide_partition_manual(dataset)\n",
    "dataset"
   ]
  },
  {
   "cell_type": "code",
   "execution_count": 6,
   "id": "c9b10b82",
   "metadata": {},
   "outputs": [],
   "source": [
    "dataset.df = dataset.df.repartition(npartitions=100)"
   ]
  },
  {
   "cell_type": "code",
   "execution_count": null,
   "id": "807ec91d",
   "metadata": {},
   "outputs": [],
   "source": [
    "check_partition_size(dataset)"
   ]
  },
  {
   "cell_type": "code",
   "execution_count": 8,
   "id": "37cb954c",
   "metadata": {},
   "outputs": [
    {
     "data": {
      "text/html": [
       "<div>\n",
       "<style scoped>\n",
       "    .dataframe tbody tr th:only-of-type {\n",
       "        vertical-align: middle;\n",
       "    }\n",
       "\n",
       "    .dataframe tbody tr th {\n",
       "        vertical-align: top;\n",
       "    }\n",
       "\n",
       "    .dataframe thead th {\n",
       "        text-align: right;\n",
       "    }\n",
       "</style>\n",
       "<table border=\"1\" class=\"dataframe\">\n",
       "  <thead>\n",
       "    <tr style=\"text-align: right;\">\n",
       "      <th></th>\n",
       "      <th>filename</th>\n",
       "      <th>text</th>\n",
       "    </tr>\n",
       "  </thead>\n",
       "  <tbody>\n",
       "    <tr>\n",
       "      <th>0</th>\n",
       "      <td>hemostaza_edu.jsonl</td>\n",
       "      <td>Małopłytkowość u chorych na zespoły mielodyspl...</td>\n",
       "    </tr>\n",
       "    <tr>\n",
       "      <th>1</th>\n",
       "      <td>hemostaza_edu.jsonl</td>\n",
       "      <td>Profesor Magdalena Łętowska nową redaktor nacz...</td>\n",
       "    </tr>\n",
       "    <tr>\n",
       "      <th>2</th>\n",
       "      <td>hemostaza_edu.jsonl</td>\n",
       "      <td>Iptacopan otrzymał pozytywną opinię CHMP jako ...</td>\n",
       "    </tr>\n",
       "    <tr>\n",
       "      <th>3</th>\n",
       "      <td>hemostaza_edu.jsonl</td>\n",
       "      <td>Światowy Dzień Chorych na HemofilięCzym jest h...</td>\n",
       "    </tr>\n",
       "    <tr>\n",
       "      <th>4</th>\n",
       "      <td>hemostaza_edu.jsonl</td>\n",
       "      <td>Czy dodanie hydroksychlorochiny do empiryczneg...</td>\n",
       "    </tr>\n",
       "    <tr>\n",
       "      <th>...</th>\n",
       "      <td>...</td>\n",
       "      <td>...</td>\n",
       "    </tr>\n",
       "    <tr>\n",
       "      <th>882</th>\n",
       "      <td>mp_pl_podrecznik.jsonl</td>\n",
       "      <td>\\n\\n\\n\\n\\nBadania płynu otrzewnowego (puchlino...</td>\n",
       "    </tr>\n",
       "    <tr>\n",
       "      <th>883</th>\n",
       "      <td>mp_pl_podrecznik.jsonl</td>\n",
       "      <td>\\n\\n\\n\\n\\nDiagnostyka zakażeń bakteriami atypo...</td>\n",
       "    </tr>\n",
       "    <tr>\n",
       "      <th>884</th>\n",
       "      <td>mp_pl_podrecznik.jsonl</td>\n",
       "      <td>\\n\\n\\n\\n\\nDiagnostyka zakażenia Helicobacter p...</td>\n",
       "    </tr>\n",
       "    <tr>\n",
       "      <th>885</th>\n",
       "      <td>mp_pl_podrecznik.jsonl</td>\n",
       "      <td>\\n\\n\\n\\n\\nDiagnostyka zakażeń wirusowych\\n\\n\\n...</td>\n",
       "    </tr>\n",
       "    <tr>\n",
       "      <th>886</th>\n",
       "      <td>mp_pl_podrecznik.jsonl</td>\n",
       "      <td>\\n\\n\\n\\n\\nDiagnostyka zakażeń Pneumocystis jir...</td>\n",
       "    </tr>\n",
       "  </tbody>\n",
       "</table>\n",
       "<p>197919 rows × 2 columns</p>\n",
       "</div>"
      ],
      "text/plain": [
       "                   filename                                               text\n",
       "0       hemostaza_edu.jsonl  Małopłytkowość u chorych na zespoły mielodyspl...\n",
       "1       hemostaza_edu.jsonl  Profesor Magdalena Łętowska nową redaktor nacz...\n",
       "2       hemostaza_edu.jsonl  Iptacopan otrzymał pozytywną opinię CHMP jako ...\n",
       "3       hemostaza_edu.jsonl  Światowy Dzień Chorych na HemofilięCzym jest h...\n",
       "4       hemostaza_edu.jsonl  Czy dodanie hydroksychlorochiny do empiryczneg...\n",
       "..                      ...                                                ...\n",
       "882  mp_pl_podrecznik.jsonl  \\n\\n\\n\\n\\nBadania płynu otrzewnowego (puchlino...\n",
       "883  mp_pl_podrecznik.jsonl  \\n\\n\\n\\n\\nDiagnostyka zakażeń bakteriami atypo...\n",
       "884  mp_pl_podrecznik.jsonl  \\n\\n\\n\\n\\nDiagnostyka zakażenia Helicobacter p...\n",
       "885  mp_pl_podrecznik.jsonl  \\n\\n\\n\\n\\nDiagnostyka zakażeń wirusowych\\n\\n\\n...\n",
       "886  mp_pl_podrecznik.jsonl  \\n\\n\\n\\n\\nDiagnostyka zakażeń Pneumocystis jir...\n",
       "\n",
       "[197919 rows x 2 columns]"
      ]
     },
     "execution_count": 8,
     "metadata": {},
     "output_type": "execute_result"
    }
   ],
   "source": [
    "dataset.df"
   ]
  },
  {
   "cell_type": "code",
   "execution_count": null,
   "id": "d78680da",
   "metadata": {},
   "outputs": [],
   "source": [
    "def redact_pii(dataset: DocumentDataset) -> DocumentDataset:\n",
    "    redactor = Modify(\n",
    "        PiiModifier(\n",
    "            language=\"en\",\n",
    "            supported_entities=[\"PERSON\", \"EMAIL_ADDRESS\"],\n",
    "            anonymize_action=\"replace\",\n",
    "            batch_size=2000,\n",
    "        ),\n",
    "    )\n",
    "    return redactor(dataset)\n",
    "\n",
    "redacted_dataset = redact_pii(dataset)"
   ]
  },
  {
   "cell_type": "code",
   "execution_count": null,
   "id": "70aa6e20",
   "metadata": {
    "scrolled": true
   },
   "outputs": [],
   "source": [
    "df = redacted_dataset.to_pandas()"
   ]
  },
  {
   "cell_type": "code",
   "execution_count": null,
   "id": "17cc10fb",
   "metadata": {},
   "outputs": [],
   "source": [
    "client.shutdown()\n",
    "cluster.close()"
   ]
  },
  {
   "cell_type": "markdown",
   "id": "f45ff4aa",
   "metadata": {},
   "source": [
    "## Toy example"
   ]
  },
  {
   "cell_type": "code",
   "execution_count": 38,
   "id": "f8402088",
   "metadata": {},
   "outputs": [],
   "source": [
    "dataframe = pd.DataFrame(\n",
    "        {\"text\": [\"Sarah and Ryan went out to play\", \"Jensen is the CEO of NVIDIA\", \n",
    "                  \"Kacper jest super. Mój email to: kacper@gmail.com\", \"Weronika ma kota. charles@o2.pl\"]}\n",
    "    )\n",
    "dd = dask.dataframe.from_pandas(dataframe, npartitions=1)\n",
    "dataset = DocumentDataset(dd)\n",
    "modified_dataset = redact_pii(dataset)"
   ]
  },
  {
   "cell_type": "code",
   "execution_count": null,
   "id": "bfd61490",
   "metadata": {
    "scrolled": true
   },
   "outputs": [],
   "source": [
    "modified_dataset.df.head()"
   ]
  }
 ],
 "metadata": {
  "kernelspec": {
   "display_name": "Python 3 (ipykernel)",
   "language": "python",
   "name": "python3"
  },
  "language_info": {
   "codemirror_mode": {
    "name": "ipython",
    "version": 3
   },
   "file_extension": ".py",
   "mimetype": "text/x-python",
   "name": "python",
   "nbconvert_exporter": "python",
   "pygments_lexer": "ipython3",
   "version": "3.10.12"
  }
 },
 "nbformat": 4,
 "nbformat_minor": 5
}
